{
 "cells": [
  {
   "cell_type": "code",
   "execution_count": 50,
   "id": "4d4aa8b7d9098b12",
   "metadata": {
    "collapsed": false,
    "ExecuteTime": {
     "end_time": "2024-01-22T13:25:42.643686300Z",
     "start_time": "2024-01-22T13:25:42.609100500Z"
    }
   },
   "outputs": [
    {
     "data": {
      "text/plain": "           published_at  length_title  length_description  \\\n0  2024-01-13T11:00:19Z            53                1019   \n1  2024-01-06T12:00:14Z            75                1151   \n2  2022-10-26T21:01:13Z            22                   0   \n3  2022-08-06T20:02:07Z            22                   0   \n4  2022-09-20T19:20:13Z            62                   0   \n\n  liveBroadcastContent  length_tags          category  duration dimension  \\\n0                 none          3.0    People & Blogs  PT29M44S        2d   \n1                 none          3.0    People & Blogs   PT34M8S        2d   \n2                 none          NaN  Film & Animation     PT15S        2d   \n3                 none          NaN  Film & Animation     PT15S        2d   \n4                 none          NaN    People & Blogs     PT47S        2d   \n\n  definition  caption  licensedContent privacyStatus  view_count  like_count  \\\n0         hd     True             True        public      419706       16313   \n1         hd     True             True        public      698272       25174   \n2         hd    False             True        public     4190814      252938   \n3         hd    False             True        public     3621409      241229   \n4         hd    False             True        public    17097671     1498921   \n\n   favorite_count  comment_count  channel_view_count  channel_sub_count  \\\n0               0            607           224573224            1450000   \n1               0           1379           224573224            1450000   \n2               0           1795           551924556             381000   \n3               0           1614           551924556             381000   \n4               0           7420          2917583937            6480000   \n\n   channel_video_count channel_country  \n0                  215              JP  \n1                  215              JP  \n2                  302              US  \n3                  302              US  \n4                  470             NaN  ",
      "text/html": "<div>\n<style scoped>\n    .dataframe tbody tr th:only-of-type {\n        vertical-align: middle;\n    }\n\n    .dataframe tbody tr th {\n        vertical-align: top;\n    }\n\n    .dataframe thead th {\n        text-align: right;\n    }\n</style>\n<table border=\"1\" class=\"dataframe\">\n  <thead>\n    <tr style=\"text-align: right;\">\n      <th></th>\n      <th>published_at</th>\n      <th>length_title</th>\n      <th>length_description</th>\n      <th>liveBroadcastContent</th>\n      <th>length_tags</th>\n      <th>category</th>\n      <th>duration</th>\n      <th>dimension</th>\n      <th>definition</th>\n      <th>caption</th>\n      <th>licensedContent</th>\n      <th>privacyStatus</th>\n      <th>view_count</th>\n      <th>like_count</th>\n      <th>favorite_count</th>\n      <th>comment_count</th>\n      <th>channel_view_count</th>\n      <th>channel_sub_count</th>\n      <th>channel_video_count</th>\n      <th>channel_country</th>\n    </tr>\n  </thead>\n  <tbody>\n    <tr>\n      <th>0</th>\n      <td>2024-01-13T11:00:19Z</td>\n      <td>53</td>\n      <td>1019</td>\n      <td>none</td>\n      <td>3.0</td>\n      <td>People &amp; Blogs</td>\n      <td>PT29M44S</td>\n      <td>2d</td>\n      <td>hd</td>\n      <td>True</td>\n      <td>True</td>\n      <td>public</td>\n      <td>419706</td>\n      <td>16313</td>\n      <td>0</td>\n      <td>607</td>\n      <td>224573224</td>\n      <td>1450000</td>\n      <td>215</td>\n      <td>JP</td>\n    </tr>\n    <tr>\n      <th>1</th>\n      <td>2024-01-06T12:00:14Z</td>\n      <td>75</td>\n      <td>1151</td>\n      <td>none</td>\n      <td>3.0</td>\n      <td>People &amp; Blogs</td>\n      <td>PT34M8S</td>\n      <td>2d</td>\n      <td>hd</td>\n      <td>True</td>\n      <td>True</td>\n      <td>public</td>\n      <td>698272</td>\n      <td>25174</td>\n      <td>0</td>\n      <td>1379</td>\n      <td>224573224</td>\n      <td>1450000</td>\n      <td>215</td>\n      <td>JP</td>\n    </tr>\n    <tr>\n      <th>2</th>\n      <td>2022-10-26T21:01:13Z</td>\n      <td>22</td>\n      <td>0</td>\n      <td>none</td>\n      <td>NaN</td>\n      <td>Film &amp; Animation</td>\n      <td>PT15S</td>\n      <td>2d</td>\n      <td>hd</td>\n      <td>False</td>\n      <td>True</td>\n      <td>public</td>\n      <td>4190814</td>\n      <td>252938</td>\n      <td>0</td>\n      <td>1795</td>\n      <td>551924556</td>\n      <td>381000</td>\n      <td>302</td>\n      <td>US</td>\n    </tr>\n    <tr>\n      <th>3</th>\n      <td>2022-08-06T20:02:07Z</td>\n      <td>22</td>\n      <td>0</td>\n      <td>none</td>\n      <td>NaN</td>\n      <td>Film &amp; Animation</td>\n      <td>PT15S</td>\n      <td>2d</td>\n      <td>hd</td>\n      <td>False</td>\n      <td>True</td>\n      <td>public</td>\n      <td>3621409</td>\n      <td>241229</td>\n      <td>0</td>\n      <td>1614</td>\n      <td>551924556</td>\n      <td>381000</td>\n      <td>302</td>\n      <td>US</td>\n    </tr>\n    <tr>\n      <th>4</th>\n      <td>2022-09-20T19:20:13Z</td>\n      <td>62</td>\n      <td>0</td>\n      <td>none</td>\n      <td>NaN</td>\n      <td>People &amp; Blogs</td>\n      <td>PT47S</td>\n      <td>2d</td>\n      <td>hd</td>\n      <td>False</td>\n      <td>True</td>\n      <td>public</td>\n      <td>17097671</td>\n      <td>1498921</td>\n      <td>0</td>\n      <td>7420</td>\n      <td>2917583937</td>\n      <td>6480000</td>\n      <td>470</td>\n      <td>NaN</td>\n    </tr>\n  </tbody>\n</table>\n</div>"
     },
     "execution_count": 50,
     "metadata": {},
     "output_type": "execute_result"
    }
   ],
   "source": [
    "# Übersicht über den Datensatz verschaffen\n",
    "\n",
    "import pandas as pd\n",
    "\n",
    "df = pd.read_csv(\"Daten.csv\")\n",
    "df.head()\n",
    "\n",
    "# Die video_id sowie channel_id enthält keine Informationen, die für die Analyse relevant sind und wird daher entfernt\n",
    "\n",
    "df = df.drop(\"video_id\", axis=1)\n",
    "df = df.drop(\"channel_id\", axis=1)"
   ]
  },
  {
   "cell_type": "code",
   "outputs": [],
   "source": [
    "\n",
    "# Es wird eine weitere Spalte eingefügt, die aus \"published at\" die Dauer bis zum heutigen Tag berechnet, um die Aktualität der Videos zu berücksichtigen\n",
    "\n",
    "from datetime import datetime, timezone\n",
    "\n",
    "df['published_at'] = pd.to_datetime(df['published_at'], utc=True)\n",
    "\n",
    "# Aktuelles Datum mit der gleichen Zeitzone wie 'published_at'\n",
    "heutiger_tag = datetime.now(timezone.utc)\n",
    "\n",
    "# Berechne die Differenz zwischen 'published_at' und dem heutigen Tag\n",
    "df['days_online'] = (heutiger_tag - df['published_at']).dt.days"
   ],
   "metadata": {
    "collapsed": true,
    "ExecuteTime": {
     "end_time": "2024-01-22T13:25:50.238575600Z",
     "start_time": "2024-01-22T13:25:50.219386100Z"
    }
   },
   "id": "initial_id",
   "execution_count": 51
  },
  {
   "cell_type": "code",
   "outputs": [],
   "source": [
    "# um für mögliche Saisonale Effekte zu berücksichtigen, wird die Spalte \"published_at\" in einer weiteren Spalte in Monate umgewandelt\n",
    "df['published_month'] = df['published_at'].dt.month"
   ],
   "metadata": {
    "collapsed": false,
    "ExecuteTime": {
     "end_time": "2024-01-22T13:25:52.654104700Z",
     "start_time": "2024-01-22T13:25:52.639402100Z"
    }
   },
   "id": "ec06febc38523d14",
   "execution_count": 52
  },
  {
   "cell_type": "code",
   "outputs": [],
   "source": [
    "# Die Spalte \"duration\" wird in eine Spalte \"duration_sec\" umgewandelt, um die Dauer der Videos in Sekunden zu erhalten\n",
    "df['duration_sec'] = pd.to_timedelta(df['duration']).dt.total_seconds()\n",
    "# die Kommastellen werden entfernt\n",
    "df['duration_sec'] = df['duration_sec'].astype(int)\n",
    "# Die Spalte \"duration\" wird entfernt\n",
    "df = df.drop(\"duration\", axis=1)"
   ],
   "metadata": {
    "collapsed": false,
    "ExecuteTime": {
     "end_time": "2024-01-22T13:25:55.230183200Z",
     "start_time": "2024-01-22T13:25:55.180774400Z"
    }
   },
   "id": "98d406844e3a6ec7",
   "execution_count": 53
  },
  {
   "cell_type": "code",
   "outputs": [],
   "source": [
    "# die unterschiedlichen Werte der Spalte \"Favorite Count\", sowie \"dimension\" und \"definition\" werden angezeigt unt entfernt, da sie keine neue Information liefern\n",
    "df['favorite_count'].unique()\n",
    "df['dimension'].unique()\n",
    "df['definition'].unique()\n",
    "\n",
    "df = df.drop(\"favorite_count\", axis=1)\n",
    "df = df.drop(\"dimension\", axis=1)\n",
    "df = df.drop(\"definition\", axis=1)"
   ],
   "metadata": {
    "collapsed": false,
    "ExecuteTime": {
     "end_time": "2024-01-22T13:25:57.477196100Z",
     "start_time": "2024-01-22T13:25:57.463690500Z"
    }
   },
   "id": "b643dc60634eb10a",
   "execution_count": 54
  },
  {
   "cell_type": "code",
   "outputs": [],
   "source": [
    "# da die Spalte \"published_at\" bereits in den Spalten published_month und days_online enthalten ist, wird sie entfernt\n",
    "df = df.drop(\"published_at\", axis=1)"
   ],
   "metadata": {
    "collapsed": false,
    "ExecuteTime": {
     "end_time": "2024-01-22T13:25:59.348990800Z",
     "start_time": "2024-01-22T13:25:59.342991800Z"
    }
   },
   "id": "e63a3d01617075a7",
   "execution_count": 55
  },
  {
   "cell_type": "code",
   "outputs": [],
   "source": [
    "# die Spalte \"length_tags\" ist sehr unvollständig und wird daher entfernt\n",
    "df = df.drop(\"length_tags\", axis=1)"
   ],
   "metadata": {
    "collapsed": false,
    "ExecuteTime": {
     "end_time": "2024-01-22T13:26:01.256462600Z",
     "start_time": "2024-01-22T13:26:01.238558600Z"
    }
   },
   "id": "4a1b4a06c8779b4f",
   "execution_count": 56
  },
  {
   "cell_type": "code",
   "outputs": [],
   "source": [
    "# die Spalte \"live_broadcasted\" enthält keine unterschiedlichen Informationen und wird daher entfernt\n",
    "df = df.drop(\"liveBroadcastContent\", axis=1)"
   ],
   "metadata": {
    "collapsed": false,
    "ExecuteTime": {
     "end_time": "2024-01-22T13:26:03.542935800Z",
     "start_time": "2024-01-22T13:26:03.530537Z"
    }
   },
   "id": "eedab8820b8f7194",
   "execution_count": 57
  },
  {
   "cell_type": "code",
   "outputs": [
    {
     "data": {
      "text/plain": "   length_title  length_description          category  caption  \\\n0            53                1019    People & Blogs     True   \n1            75                1151    People & Blogs     True   \n2            22                   0  Film & Animation    False   \n3            22                   0  Film & Animation    False   \n5            82                1074    People & Blogs     True   \n\n   licensedContent privacyStatus  view_count  like_count  comment_count  \\\n0             True        public      419706       16313            607   \n1             True        public      698272       25174           1379   \n2             True        public     4190814      252938           1795   \n3             True        public     3621409      241229           1614   \n5             True        public     2857435       60915           2094   \n\n   channel_view_count  channel_sub_count  channel_video_count channel_country  \\\n0           224573224            1450000                  215              JP   \n1           224573224            1450000                  215              JP   \n2           551924556             381000                  302              US   \n3           551924556             381000                  302              US   \n5           224573224            1450000                  215              JP   \n\n   days_online  published_month  duration_sec  \n0            9                1          1784  \n1           16                1          2048  \n2          452               10            15  \n3          533                8            15  \n5           44               12          1474  ",
      "text/html": "<div>\n<style scoped>\n    .dataframe tbody tr th:only-of-type {\n        vertical-align: middle;\n    }\n\n    .dataframe tbody tr th {\n        vertical-align: top;\n    }\n\n    .dataframe thead th {\n        text-align: right;\n    }\n</style>\n<table border=\"1\" class=\"dataframe\">\n  <thead>\n    <tr style=\"text-align: right;\">\n      <th></th>\n      <th>length_title</th>\n      <th>length_description</th>\n      <th>category</th>\n      <th>caption</th>\n      <th>licensedContent</th>\n      <th>privacyStatus</th>\n      <th>view_count</th>\n      <th>like_count</th>\n      <th>comment_count</th>\n      <th>channel_view_count</th>\n      <th>channel_sub_count</th>\n      <th>channel_video_count</th>\n      <th>channel_country</th>\n      <th>days_online</th>\n      <th>published_month</th>\n      <th>duration_sec</th>\n    </tr>\n  </thead>\n  <tbody>\n    <tr>\n      <th>0</th>\n      <td>53</td>\n      <td>1019</td>\n      <td>People &amp; Blogs</td>\n      <td>True</td>\n      <td>True</td>\n      <td>public</td>\n      <td>419706</td>\n      <td>16313</td>\n      <td>607</td>\n      <td>224573224</td>\n      <td>1450000</td>\n      <td>215</td>\n      <td>JP</td>\n      <td>9</td>\n      <td>1</td>\n      <td>1784</td>\n    </tr>\n    <tr>\n      <th>1</th>\n      <td>75</td>\n      <td>1151</td>\n      <td>People &amp; Blogs</td>\n      <td>True</td>\n      <td>True</td>\n      <td>public</td>\n      <td>698272</td>\n      <td>25174</td>\n      <td>1379</td>\n      <td>224573224</td>\n      <td>1450000</td>\n      <td>215</td>\n      <td>JP</td>\n      <td>16</td>\n      <td>1</td>\n      <td>2048</td>\n    </tr>\n    <tr>\n      <th>2</th>\n      <td>22</td>\n      <td>0</td>\n      <td>Film &amp; Animation</td>\n      <td>False</td>\n      <td>True</td>\n      <td>public</td>\n      <td>4190814</td>\n      <td>252938</td>\n      <td>1795</td>\n      <td>551924556</td>\n      <td>381000</td>\n      <td>302</td>\n      <td>US</td>\n      <td>452</td>\n      <td>10</td>\n      <td>15</td>\n    </tr>\n    <tr>\n      <th>3</th>\n      <td>22</td>\n      <td>0</td>\n      <td>Film &amp; Animation</td>\n      <td>False</td>\n      <td>True</td>\n      <td>public</td>\n      <td>3621409</td>\n      <td>241229</td>\n      <td>1614</td>\n      <td>551924556</td>\n      <td>381000</td>\n      <td>302</td>\n      <td>US</td>\n      <td>533</td>\n      <td>8</td>\n      <td>15</td>\n    </tr>\n    <tr>\n      <th>5</th>\n      <td>82</td>\n      <td>1074</td>\n      <td>People &amp; Blogs</td>\n      <td>True</td>\n      <td>True</td>\n      <td>public</td>\n      <td>2857435</td>\n      <td>60915</td>\n      <td>2094</td>\n      <td>224573224</td>\n      <td>1450000</td>\n      <td>215</td>\n      <td>JP</td>\n      <td>44</td>\n      <td>12</td>\n      <td>1474</td>\n    </tr>\n  </tbody>\n</table>\n</div>"
     },
     "execution_count": 58,
     "metadata": {},
     "output_type": "execute_result"
    }
   ],
   "source": [
    "# Eine beobachtung mit \"channel_country\" NaN wird entfernt\n",
    "df = df.dropna(subset=['channel_country'])"
   ],
   "metadata": {
    "collapsed": false,
    "ExecuteTime": {
     "end_time": "2024-01-22T13:26:08.704278600Z",
     "start_time": "2024-01-22T13:26:08.642714800Z"
    }
   },
   "id": "f046332fd30a7968",
   "execution_count": 58
  },
  {
   "cell_type": "code",
   "outputs": [],
   "source": [
    "# Nun muss der Datensatz noch für die Analyse mit linerer Regression vorbereitet werden: Dazu müssen nicht numerische Werte in Dummy Variablen abgebildet werden.\n",
    "\n",
    "# Die Spalte \"category\" wird in Dummy Variable-Spalten aufgeteilt, die dann 1 sind, wenn das Video in der jeweiligen Kategorie ist und 0, wenn nicht, die Spalten werden so benannt wie die Kategorien\n",
    "df_analysis = pd.get_dummies(df, columns=['category'], prefix=\"cat\")"
   ],
   "metadata": {
    "collapsed": false,
    "ExecuteTime": {
     "end_time": "2024-01-22T13:45:06.020550400Z",
     "start_time": "2024-01-22T13:45:06.002852200Z"
    }
   },
   "id": "cd3fb3feeb63a033",
   "execution_count": 81
  },
  {
   "cell_type": "code",
   "outputs": [],
   "source": [
    "# Die Spalte \"channel_country\" wird in Dummy Variable-Spalten aufgeteilt, die dann 1 sind, wenn das Video aus dem jeweiligen Land ist und 0, wenn nicht, die Spalten werden so benannt wie die Länder\n",
    "df_analysis = pd.get_dummies(df_analysis, columns=['channel_country'], prefix=\"country\")"
   ],
   "metadata": {
    "collapsed": false,
    "ExecuteTime": {
     "end_time": "2024-01-22T13:45:08.122361100Z",
     "start_time": "2024-01-22T13:45:08.100052900Z"
    }
   },
   "id": "e0258dbccd8cbafc",
   "execution_count": 82
  },
  {
   "cell_type": "code",
   "outputs": [],
   "source": [
    "# Spalte \"caption\" wird in Dummy Variable-Spalten aufgeteilt, die dann 1 sind, wenn das Video Untertitel hat und 0, wenn nicht\n",
    "df_analysis = pd.get_dummies(df_analysis, columns=['caption'], prefix=\"caption\")"
   ],
   "metadata": {
    "collapsed": false,
    "ExecuteTime": {
     "end_time": "2024-01-22T13:45:09.920334100Z",
     "start_time": "2024-01-22T13:45:09.911043200Z"
    }
   },
   "id": "420cc309718fe252",
   "execution_count": 83
  },
  {
   "cell_type": "code",
   "outputs": [],
   "source": [
    "# Spalte \"licensedContent\" wird in Dummy Variable-Spalten aufgeteilt, die dann 1 sind, wenn das Video lizensierten Inhalt enthält und 0, wenn nicht\n",
    "df_analysis = pd.get_dummies(df_analysis, columns=['licensedContent'], prefix=\"licensed\")"
   ],
   "metadata": {
    "collapsed": false,
    "ExecuteTime": {
     "end_time": "2024-01-22T13:45:11.913511900Z",
     "start_time": "2024-01-22T13:45:11.902575200Z"
    }
   },
   "id": "cfe8b9fcd0a401b2",
   "execution_count": 84
  },
  {
   "cell_type": "code",
   "outputs": [],
   "source": [
    "# Spalte \"privacyStatus\" wird in Dummy Variable-Spalten aufgeteilt, die dann 1 sind, wenn das Video öffentlich ist und 0, wenn nicht\n",
    "df_analysis = pd.get_dummies(df_analysis, columns=['privacyStatus'], prefix=\"privacy\")"
   ],
   "metadata": {
    "collapsed": false
   },
   "id": "6b101fc674c2e1bc",
   "execution_count": null
  },
  {
   "cell_type": "code",
   "outputs": [],
   "source": [
    "# Spalten \"caption_False\" und \"licensed_False\" werden entfernt, da sie keine neuen Informationen liefern\n",
    "df_analysis = df_analysis.drop(\"caption_False\", axis=1)\n",
    "df_analysis = df_analysis.drop(\"licensed_False\", axis=1)"
   ],
   "metadata": {
    "collapsed": false,
    "ExecuteTime": {
     "end_time": "2024-01-22T13:46:22.334097800Z",
     "start_time": "2024-01-22T13:46:22.320624100Z"
    }
   },
   "id": "6ce661b76eae762d",
   "execution_count": 87
  },
  {
   "cell_type": "code",
   "outputs": [
    {
     "data": {
      "text/plain": "   length_title  length_description  view_count  like_count  comment_count  \\\n0            53                1019      419706       16313            607   \n1            75                1151      698272       25174           1379   \n2            22                   0     4190814      252938           1795   \n3            22                   0     3621409      241229           1614   \n5            82                1074     2857435       60915           2094   \n\n   channel_view_count  channel_sub_count  channel_video_count  days_online  \\\n0           224573224            1450000                  215            9   \n1           224573224            1450000                  215           16   \n2           551924556             381000                  302          452   \n3           551924556             381000                  302          533   \n5           224573224            1450000                  215           44   \n\n   published_month  ...  country_TR  country_TW  country_UA  country_UG  \\\n0                1  ...           0           0           0           0   \n1                1  ...           0           0           0           0   \n2               10  ...           0           0           0           0   \n3                8  ...           0           0           0           0   \n5               12  ...           0           0           0           0   \n\n   country_US  country_VN  country_ZA  caption_True  licensed_True  \\\n0           0           0           0             1              1   \n1           0           0           0             1              1   \n2           1           0           0             0              1   \n3           1           0           0             0              1   \n5           0           0           0             1              1   \n\n   privacy_public  \n0               1  \n1               1  \n2               1  \n3               1  \n5               1  \n\n[5 rows x 93 columns]",
      "text/html": "<div>\n<style scoped>\n    .dataframe tbody tr th:only-of-type {\n        vertical-align: middle;\n    }\n\n    .dataframe tbody tr th {\n        vertical-align: top;\n    }\n\n    .dataframe thead th {\n        text-align: right;\n    }\n</style>\n<table border=\"1\" class=\"dataframe\">\n  <thead>\n    <tr style=\"text-align: right;\">\n      <th></th>\n      <th>length_title</th>\n      <th>length_description</th>\n      <th>view_count</th>\n      <th>like_count</th>\n      <th>comment_count</th>\n      <th>channel_view_count</th>\n      <th>channel_sub_count</th>\n      <th>channel_video_count</th>\n      <th>days_online</th>\n      <th>published_month</th>\n      <th>...</th>\n      <th>country_TR</th>\n      <th>country_TW</th>\n      <th>country_UA</th>\n      <th>country_UG</th>\n      <th>country_US</th>\n      <th>country_VN</th>\n      <th>country_ZA</th>\n      <th>caption_True</th>\n      <th>licensed_True</th>\n      <th>privacy_public</th>\n    </tr>\n  </thead>\n  <tbody>\n    <tr>\n      <th>0</th>\n      <td>53</td>\n      <td>1019</td>\n      <td>419706</td>\n      <td>16313</td>\n      <td>607</td>\n      <td>224573224</td>\n      <td>1450000</td>\n      <td>215</td>\n      <td>9</td>\n      <td>1</td>\n      <td>...</td>\n      <td>0</td>\n      <td>0</td>\n      <td>0</td>\n      <td>0</td>\n      <td>0</td>\n      <td>0</td>\n      <td>0</td>\n      <td>1</td>\n      <td>1</td>\n      <td>1</td>\n    </tr>\n    <tr>\n      <th>1</th>\n      <td>75</td>\n      <td>1151</td>\n      <td>698272</td>\n      <td>25174</td>\n      <td>1379</td>\n      <td>224573224</td>\n      <td>1450000</td>\n      <td>215</td>\n      <td>16</td>\n      <td>1</td>\n      <td>...</td>\n      <td>0</td>\n      <td>0</td>\n      <td>0</td>\n      <td>0</td>\n      <td>0</td>\n      <td>0</td>\n      <td>0</td>\n      <td>1</td>\n      <td>1</td>\n      <td>1</td>\n    </tr>\n    <tr>\n      <th>2</th>\n      <td>22</td>\n      <td>0</td>\n      <td>4190814</td>\n      <td>252938</td>\n      <td>1795</td>\n      <td>551924556</td>\n      <td>381000</td>\n      <td>302</td>\n      <td>452</td>\n      <td>10</td>\n      <td>...</td>\n      <td>0</td>\n      <td>0</td>\n      <td>0</td>\n      <td>0</td>\n      <td>1</td>\n      <td>0</td>\n      <td>0</td>\n      <td>0</td>\n      <td>1</td>\n      <td>1</td>\n    </tr>\n    <tr>\n      <th>3</th>\n      <td>22</td>\n      <td>0</td>\n      <td>3621409</td>\n      <td>241229</td>\n      <td>1614</td>\n      <td>551924556</td>\n      <td>381000</td>\n      <td>302</td>\n      <td>533</td>\n      <td>8</td>\n      <td>...</td>\n      <td>0</td>\n      <td>0</td>\n      <td>0</td>\n      <td>0</td>\n      <td>1</td>\n      <td>0</td>\n      <td>0</td>\n      <td>0</td>\n      <td>1</td>\n      <td>1</td>\n    </tr>\n    <tr>\n      <th>5</th>\n      <td>82</td>\n      <td>1074</td>\n      <td>2857435</td>\n      <td>60915</td>\n      <td>2094</td>\n      <td>224573224</td>\n      <td>1450000</td>\n      <td>215</td>\n      <td>44</td>\n      <td>12</td>\n      <td>...</td>\n      <td>0</td>\n      <td>0</td>\n      <td>0</td>\n      <td>0</td>\n      <td>0</td>\n      <td>0</td>\n      <td>0</td>\n      <td>1</td>\n      <td>1</td>\n      <td>1</td>\n    </tr>\n  </tbody>\n</table>\n<p>5 rows × 93 columns</p>\n</div>"
     },
     "execution_count": 88,
     "metadata": {},
     "output_type": "execute_result"
    }
   ],
   "source": [
    "df_analysis.head()"
   ],
   "metadata": {
    "collapsed": false,
    "ExecuteTime": {
     "end_time": "2024-01-22T13:46:24.761854100Z",
     "start_time": "2024-01-22T13:46:24.663382500Z"
    }
   },
   "id": "71dceb2255316529",
   "execution_count": 88
  }
 ],
 "metadata": {
  "kernelspec": {
   "display_name": "Python 3",
   "language": "python",
   "name": "python3"
  },
  "language_info": {
   "codemirror_mode": {
    "name": "ipython",
    "version": 2
   },
   "file_extension": ".py",
   "mimetype": "text/x-python",
   "name": "python",
   "nbconvert_exporter": "python",
   "pygments_lexer": "ipython2",
   "version": "2.7.6"
  }
 },
 "nbformat": 4,
 "nbformat_minor": 5
}
