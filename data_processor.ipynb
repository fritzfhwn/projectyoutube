{
 "cells": [
  {
   "cell_type": "code",
   "execution_count": 4,
   "id": "dccc181268d7a1f8",
   "metadata": {
    "collapsed": false,
    "ExecuteTime": {
     "end_time": "2024-01-22T12:38:22.726018600Z",
     "start_time": "2024-01-22T12:38:22.344997Z"
    }
   },
   "outputs": [],
   "source": [
    "import json\n",
    "import pandas as pd\n",
    "import pickle\n",
    "\n",
    "def load_data(file_path, format):\n",
    "    if format == 'json':\n",
    "        with open(file_path, 'r') as file:\n",
    "            return json.load(file)\n",
    "    elif format == 'pickle':\n",
    "        with open(file_path, 'rb') as file:\n",
    "            return pickle.load(file)\n",
    "\n",
    "loaded_data = load_data(\"./data/video_list.json\", \"json\")\n",
    "\n",
    "def create_dataframe(search_args_list):\n",
    "    df = {\"video_id\": [], \"published_at\": [], \"channel_id\": [], \"length_title\": [], \"length_description\": [], \"liveBroadcastContent\": [], \"length_tags\": [], \"category\": [], \"duration\": [], \"dimension\": [], \"definition\": [], \"caption\": [], \"licensedContent\": [], \"privacyStatus\": [], \"view_count\": [], \"like_count\": [], \"favorite_count\": [], \"comment_count\": [], \"channel_view_count\": [], \"channel_sub_count\": [], \"channel_video_count\": [], \"channel_country\": []}\n",
    "\n",
    "    for search_entry in search_args_list:\n",
    "        if \"items\" in search_entry:\n",
    "            for video in search_entry:\n",
    "                if video == \"items\":\n",
    "                    for dict_entry in search_entry[video]:\n",
    "                        if all(key in dict_entry for key in [\"id\", \"snippet\", \"video_details\", \"channel_details\"]):\n",
    "                            if \"items\" in dict_entry[\"video_details\"]:\n",
    "                                if all(key in dict_entry[\"video_details\"][\"items\"][0][\"statistics\"] for key in [\"likeCount\", \"commentCount\"]):\n",
    "                                    df[\"video_id\"].append(dict_entry[\"id\"][\"videoId\"])\n",
    "                                    df[\"published_at\"].append(dict_entry[\"snippet\"][\"publishedAt\"])\n",
    "                                    df[\"channel_id\"].append(dict_entry[\"snippet\"][\"channelId\"])\n",
    "                                    df[\"length_title\"].append(len(dict_entry[\"video_details\"][\"items\"][0][\"snippet\"][\"title\"]))\n",
    "                                    df[\"length_description\"].append(len(dict_entry[\"video_details\"][\"items\"][0][\"snippet\"][\"description\"]))\n",
    "                                    df[\"category\"].append(dict_entry[\"video_details\"][\"items\"][0][\"snippet\"][\"categoryId\"])\n",
    "                                    df[\"liveBroadcastContent\"].append(dict_entry[\"video_details\"][\"items\"][0][\"snippet\"][\"liveBroadcastContent\"])\n",
    "                                    df[\"duration\"].append(dict_entry[\"video_details\"][\"items\"][0][\"contentDetails\"][\"duration\"])\n",
    "                                    df[\"dimension\"].append(dict_entry[\"video_details\"][\"items\"][0][\"contentDetails\"][\"dimension\"])\n",
    "                                    df[\"definition\"].append(dict_entry[\"video_details\"][\"items\"][0][\"contentDetails\"][\"definition\"])\n",
    "                                    df[\"caption\"].append(dict_entry[\"video_details\"][\"items\"][0][\"contentDetails\"][\"caption\"])\n",
    "                                    df[\"licensedContent\"].append(dict_entry[\"video_details\"][\"items\"][0][\"contentDetails\"][\"licensedContent\"])\n",
    "                                    df[\"privacyStatus\"].append(dict_entry[\"video_details\"][\"items\"][0][\"status\"][\"privacyStatus\"])\n",
    "                                    df[\"view_count\"].append(dict_entry[\"video_details\"][\"items\"][0][\"statistics\"][\"viewCount\"])\n",
    "                                    df[\"like_count\"].append(dict_entry[\"video_details\"][\"items\"][0][\"statistics\"][\"likeCount\"])\n",
    "                                    df[\"favorite_count\"].append(dict_entry[\"video_details\"][\"items\"][0][\"statistics\"][\"favoriteCount\"])\n",
    "                                    df[\"comment_count\"].append(dict_entry[\"video_details\"][\"items\"][0][\"statistics\"][\"commentCount\"])\n",
    "                                    if \"tags\" in dict_entry[\"video_details\"][\"items\"][0][\"snippet\"]:\n",
    "                                        df[\"length_tags\"].append(len(dict_entry[\"video_details\"][\"items\"][0][\"snippet\"][\"tags\"]))\n",
    "                                    else:\n",
    "                                        df[\"length_tags\"].append(None)\n",
    "                                    df[\"channel_view_count\"].append(dict_entry[\"channel_details\"][0][\"statistics\"][\"viewCount\"])\n",
    "                                    df[\"channel_sub_count\"].append(dict_entry[\"channel_details\"][0][\"statistics\"][\"subscriberCount\"])\n",
    "                                    df[\"channel_video_count\"].append(dict_entry[\"channel_details\"][0][\"statistics\"][\"videoCount\"])\n",
    "                                    if \"country\" in dict_entry[\"channel_details\"][0][\"snippet\"]:\n",
    "                                        df[\"channel_country\"].append(dict_entry[\"channel_details\"][0][\"snippet\"][\"country\"])\n",
    "                                    else:\n",
    "                                        df[\"channel_country\"].append(None)\n",
    "    df = pd.DataFrame(df)\n",
    "    return df\n",
    "\n",
    "df = create_dataframe(loaded_data)"
   ]
  },
  {
   "cell_type": "code",
   "outputs": [],
   "source": [
    "# Pfad zum Speichern der Datei im gleichen Ordner wie das Skript\n",
    "dateipfad = 'Daten.csv'\n",
    "\n",
    "# DataFrame als CSV-Datei speichern\n",
    "df.to_csv(dateipfad, index=False)"
   ],
   "metadata": {
    "collapsed": true,
    "ExecuteTime": {
     "end_time": "2024-01-22T12:39:11.883021300Z",
     "start_time": "2024-01-22T12:39:11.803502600Z"
    }
   },
   "id": "initial_id",
   "execution_count": 6
  }
 ],
 "metadata": {
  "kernelspec": {
   "display_name": "Python 3",
   "language": "python",
   "name": "python3"
  },
  "language_info": {
   "codemirror_mode": {
    "name": "ipython",
    "version": 2
   },
   "file_extension": ".py",
   "mimetype": "text/x-python",
   "name": "python",
   "nbconvert_exporter": "python",
   "pygments_lexer": "ipython2",
   "version": "2.7.6"
  }
 },
 "nbformat": 4,
 "nbformat_minor": 5
}
