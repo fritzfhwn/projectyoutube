{
 "cells": [
  {
   "cell_type": "code",
   "execution_count": 19,
   "id": "initial_id",
   "metadata": {
    "collapsed": true,
    "ExecuteTime": {
     "end_time": "2024-01-21T17:52:45.107986300Z",
     "start_time": "2024-01-21T17:52:44.892013Z"
    }
   },
   "outputs": [
    {
     "data": {
      "text/plain": "         video_id          published_at                channel_id  \\\n0     Djc0kF8UJLw  2024-01-13T11:00:19Z  UC_RDtmUq7RISJ4mFKAhjzTg   \n1     AFfsUa0PYL0  2024-01-06T12:00:14Z  UC_RDtmUq7RISJ4mFKAhjzTg   \n2     4V9bAg0P8kQ  2022-10-26T21:01:13Z  UC5RLcUMn6TqvRJnhBTtzWUg   \n3     F-bqbhUEghY  2022-08-06T20:02:07Z  UC5RLcUMn6TqvRJnhBTtzWUg   \n4     K0sGaPyO8yA  2022-09-20T19:20:13Z  UCu-pLexbz0lzAzwzXtd6v_Q   \n...           ...                   ...                       ...   \n1600  _phQSO8teAc  2015-08-04T08:55:52Z  UCiGSY8j_PnmvogTyoue2qjw   \n1601  LHudrw2Ki8o  2023-01-05T14:00:16Z  UCi-RZ7vfVP-wOjlJcBLH9PQ   \n1602  Ch62j4C4pJ8  2022-06-03T08:59:14Z  UCS92QTwvl_Epj7cSMX6-Bpw   \n1603  A0_SZSN-gMU  2023-01-21T13:00:06Z  UCKcWSiffY8MpZ3NKav8LeRA   \n1604  7o23w8i0H-w  2016-05-31T16:00:14Z  UCqDpVfc2_sYFrdGZ8yhRk4Q   \n\n      length_title  length_description liveBroadcastContent  length_tags  \\\n0               53                1019                 none          3.0   \n1               75                1151                 none          3.0   \n2               22                   0                 none          NaN   \n3               22                   0                 none          NaN   \n4               62                   0                 none          NaN   \n...            ...                 ...                  ...          ...   \n1600            23                 154                 none          3.0   \n1601            31                  88                 none          NaN   \n1602            75                 961                 none         15.0   \n1603            66                 793                 none         39.0   \n1604            36                 428                 none         14.0   \n\n              category  duration dimension  ... licensedContent privacyStatus  \\\n0       People & Blogs  PT29M44S        2d  ...            True        public   \n1       People & Blogs   PT34M8S        2d  ...            True        public   \n2     Film & Animation     PT15S        2d  ...            True        public   \n3     Film & Animation     PT15S        2d  ...            True        public   \n4       People & Blogs     PT47S        2d  ...            True        public   \n...                ...       ...       ...  ...             ...           ...   \n1600    People & Blogs   PT2M22S        2d  ...           False        public   \n1601     Howto & Style      PT8S        2d  ...            True        public   \n1602   News & Politics  PT10M25S        2d  ...            True        public   \n1603    People & Blogs   PT3M45S        2d  ...            True        public   \n1604             Music    PT3M1S        2d  ...           False        public   \n\n      view_count like_count favorite_count comment_count channel_view_count  \\\n0         419706      16313              0           607          224573224   \n1         698272      25174              0          1379          224573224   \n2        4190814     252938              0          1795          551924556   \n3        3621409     241229              0          1614          551924556   \n4       17097671    1498921              0          7420         2917583937   \n...          ...        ...            ...           ...                ...   \n1600      175535       3101              0           139           13370379   \n1601       66857       1096              0             7            5593159   \n1602       27505        861              0           206            7931406   \n1603      181444       5173              0           300         1104700717   \n1604     3105958      64134              0          2042           12139434   \n\n     channel_sub_count channel_video_count channel_country  \n0              1450000                 215              JP  \n1              1450000                 215              JP  \n2               381000                 302              US  \n3               381000                 302              US  \n4              6480000                 470            None  \n...                ...                 ...             ...  \n1600             14500                  93              US  \n1601            129000                 607              GB  \n1602            128000                 176              GB  \n1603           8090000                4736              US  \n1604            142000                  11            None  \n\n[1605 rows x 22 columns]",
      "text/html": "<div>\n<style scoped>\n    .dataframe tbody tr th:only-of-type {\n        vertical-align: middle;\n    }\n\n    .dataframe tbody tr th {\n        vertical-align: top;\n    }\n\n    .dataframe thead th {\n        text-align: right;\n    }\n</style>\n<table border=\"1\" class=\"dataframe\">\n  <thead>\n    <tr style=\"text-align: right;\">\n      <th></th>\n      <th>video_id</th>\n      <th>published_at</th>\n      <th>channel_id</th>\n      <th>length_title</th>\n      <th>length_description</th>\n      <th>liveBroadcastContent</th>\n      <th>length_tags</th>\n      <th>category</th>\n      <th>duration</th>\n      <th>dimension</th>\n      <th>...</th>\n      <th>licensedContent</th>\n      <th>privacyStatus</th>\n      <th>view_count</th>\n      <th>like_count</th>\n      <th>favorite_count</th>\n      <th>comment_count</th>\n      <th>channel_view_count</th>\n      <th>channel_sub_count</th>\n      <th>channel_video_count</th>\n      <th>channel_country</th>\n    </tr>\n  </thead>\n  <tbody>\n    <tr>\n      <th>0</th>\n      <td>Djc0kF8UJLw</td>\n      <td>2024-01-13T11:00:19Z</td>\n      <td>UC_RDtmUq7RISJ4mFKAhjzTg</td>\n      <td>53</td>\n      <td>1019</td>\n      <td>none</td>\n      <td>3.0</td>\n      <td>People &amp; Blogs</td>\n      <td>PT29M44S</td>\n      <td>2d</td>\n      <td>...</td>\n      <td>True</td>\n      <td>public</td>\n      <td>419706</td>\n      <td>16313</td>\n      <td>0</td>\n      <td>607</td>\n      <td>224573224</td>\n      <td>1450000</td>\n      <td>215</td>\n      <td>JP</td>\n    </tr>\n    <tr>\n      <th>1</th>\n      <td>AFfsUa0PYL0</td>\n      <td>2024-01-06T12:00:14Z</td>\n      <td>UC_RDtmUq7RISJ4mFKAhjzTg</td>\n      <td>75</td>\n      <td>1151</td>\n      <td>none</td>\n      <td>3.0</td>\n      <td>People &amp; Blogs</td>\n      <td>PT34M8S</td>\n      <td>2d</td>\n      <td>...</td>\n      <td>True</td>\n      <td>public</td>\n      <td>698272</td>\n      <td>25174</td>\n      <td>0</td>\n      <td>1379</td>\n      <td>224573224</td>\n      <td>1450000</td>\n      <td>215</td>\n      <td>JP</td>\n    </tr>\n    <tr>\n      <th>2</th>\n      <td>4V9bAg0P8kQ</td>\n      <td>2022-10-26T21:01:13Z</td>\n      <td>UC5RLcUMn6TqvRJnhBTtzWUg</td>\n      <td>22</td>\n      <td>0</td>\n      <td>none</td>\n      <td>NaN</td>\n      <td>Film &amp; Animation</td>\n      <td>PT15S</td>\n      <td>2d</td>\n      <td>...</td>\n      <td>True</td>\n      <td>public</td>\n      <td>4190814</td>\n      <td>252938</td>\n      <td>0</td>\n      <td>1795</td>\n      <td>551924556</td>\n      <td>381000</td>\n      <td>302</td>\n      <td>US</td>\n    </tr>\n    <tr>\n      <th>3</th>\n      <td>F-bqbhUEghY</td>\n      <td>2022-08-06T20:02:07Z</td>\n      <td>UC5RLcUMn6TqvRJnhBTtzWUg</td>\n      <td>22</td>\n      <td>0</td>\n      <td>none</td>\n      <td>NaN</td>\n      <td>Film &amp; Animation</td>\n      <td>PT15S</td>\n      <td>2d</td>\n      <td>...</td>\n      <td>True</td>\n      <td>public</td>\n      <td>3621409</td>\n      <td>241229</td>\n      <td>0</td>\n      <td>1614</td>\n      <td>551924556</td>\n      <td>381000</td>\n      <td>302</td>\n      <td>US</td>\n    </tr>\n    <tr>\n      <th>4</th>\n      <td>K0sGaPyO8yA</td>\n      <td>2022-09-20T19:20:13Z</td>\n      <td>UCu-pLexbz0lzAzwzXtd6v_Q</td>\n      <td>62</td>\n      <td>0</td>\n      <td>none</td>\n      <td>NaN</td>\n      <td>People &amp; Blogs</td>\n      <td>PT47S</td>\n      <td>2d</td>\n      <td>...</td>\n      <td>True</td>\n      <td>public</td>\n      <td>17097671</td>\n      <td>1498921</td>\n      <td>0</td>\n      <td>7420</td>\n      <td>2917583937</td>\n      <td>6480000</td>\n      <td>470</td>\n      <td>None</td>\n    </tr>\n    <tr>\n      <th>...</th>\n      <td>...</td>\n      <td>...</td>\n      <td>...</td>\n      <td>...</td>\n      <td>...</td>\n      <td>...</td>\n      <td>...</td>\n      <td>...</td>\n      <td>...</td>\n      <td>...</td>\n      <td>...</td>\n      <td>...</td>\n      <td>...</td>\n      <td>...</td>\n      <td>...</td>\n      <td>...</td>\n      <td>...</td>\n      <td>...</td>\n      <td>...</td>\n      <td>...</td>\n      <td>...</td>\n    </tr>\n    <tr>\n      <th>1600</th>\n      <td>_phQSO8teAc</td>\n      <td>2015-08-04T08:55:52Z</td>\n      <td>UCiGSY8j_PnmvogTyoue2qjw</td>\n      <td>23</td>\n      <td>154</td>\n      <td>none</td>\n      <td>3.0</td>\n      <td>People &amp; Blogs</td>\n      <td>PT2M22S</td>\n      <td>2d</td>\n      <td>...</td>\n      <td>False</td>\n      <td>public</td>\n      <td>175535</td>\n      <td>3101</td>\n      <td>0</td>\n      <td>139</td>\n      <td>13370379</td>\n      <td>14500</td>\n      <td>93</td>\n      <td>US</td>\n    </tr>\n    <tr>\n      <th>1601</th>\n      <td>LHudrw2Ki8o</td>\n      <td>2023-01-05T14:00:16Z</td>\n      <td>UCi-RZ7vfVP-wOjlJcBLH9PQ</td>\n      <td>31</td>\n      <td>88</td>\n      <td>none</td>\n      <td>NaN</td>\n      <td>Howto &amp; Style</td>\n      <td>PT8S</td>\n      <td>2d</td>\n      <td>...</td>\n      <td>True</td>\n      <td>public</td>\n      <td>66857</td>\n      <td>1096</td>\n      <td>0</td>\n      <td>7</td>\n      <td>5593159</td>\n      <td>129000</td>\n      <td>607</td>\n      <td>GB</td>\n    </tr>\n    <tr>\n      <th>1602</th>\n      <td>Ch62j4C4pJ8</td>\n      <td>2022-06-03T08:59:14Z</td>\n      <td>UCS92QTwvl_Epj7cSMX6-Bpw</td>\n      <td>75</td>\n      <td>961</td>\n      <td>none</td>\n      <td>15.0</td>\n      <td>News &amp; Politics</td>\n      <td>PT10M25S</td>\n      <td>2d</td>\n      <td>...</td>\n      <td>True</td>\n      <td>public</td>\n      <td>27505</td>\n      <td>861</td>\n      <td>0</td>\n      <td>206</td>\n      <td>7931406</td>\n      <td>128000</td>\n      <td>176</td>\n      <td>GB</td>\n    </tr>\n    <tr>\n      <th>1603</th>\n      <td>A0_SZSN-gMU</td>\n      <td>2023-01-21T13:00:06Z</td>\n      <td>UCKcWSiffY8MpZ3NKav8LeRA</td>\n      <td>66</td>\n      <td>793</td>\n      <td>none</td>\n      <td>39.0</td>\n      <td>People &amp; Blogs</td>\n      <td>PT3M45S</td>\n      <td>2d</td>\n      <td>...</td>\n      <td>True</td>\n      <td>public</td>\n      <td>181444</td>\n      <td>5173</td>\n      <td>0</td>\n      <td>300</td>\n      <td>1104700717</td>\n      <td>8090000</td>\n      <td>4736</td>\n      <td>US</td>\n    </tr>\n    <tr>\n      <th>1604</th>\n      <td>7o23w8i0H-w</td>\n      <td>2016-05-31T16:00:14Z</td>\n      <td>UCqDpVfc2_sYFrdGZ8yhRk4Q</td>\n      <td>36</td>\n      <td>428</td>\n      <td>none</td>\n      <td>14.0</td>\n      <td>Music</td>\n      <td>PT3M1S</td>\n      <td>2d</td>\n      <td>...</td>\n      <td>False</td>\n      <td>public</td>\n      <td>3105958</td>\n      <td>64134</td>\n      <td>0</td>\n      <td>2042</td>\n      <td>12139434</td>\n      <td>142000</td>\n      <td>11</td>\n      <td>None</td>\n    </tr>\n  </tbody>\n</table>\n<p>1605 rows × 22 columns</p>\n</div>"
     },
     "execution_count": 19,
     "metadata": {},
     "output_type": "execute_result"
    }
   ],
   "source": [
    "import json\n",
    "import pandas as pd\n",
    "import pickle\n",
    "\n",
    "def load_data(file_path, format):\n",
    "    if format == 'json':\n",
    "        with open(file_path, 'r') as file:\n",
    "            return json.load(file)\n",
    "    elif format == 'pickle':\n",
    "        with open(file_path, 'rb') as file:\n",
    "            return pickle.load(file)\n",
    "\n",
    "loaded_data = load_data(\"./data/video_list.json\", \"json\")\n",
    "\n",
    "def create_dataframe(search_args_list):\n",
    "    df = {\"video_id\": [], \"published_at\": [], \"channel_id\": [], \"length_title\": [], \"length_description\": [], \"liveBroadcastContent\": [], \"length_tags\": [], \"category\": [], \"duration\": [], \"dimension\": [], \"definition\": [], \"caption\": [], \"licensedContent\": [], \"privacyStatus\": [], \"view_count\": [], \"like_count\": [], \"favorite_count\": [], \"comment_count\": [], \"channel_view_count\": [], \"channel_sub_count\": [], \"channel_video_count\": [], \"channel_country\": []}\n",
    "\n",
    "    for search_entry in search_args_list:\n",
    "        if \"items\" in search_entry:\n",
    "            for video in search_entry:\n",
    "                if video == \"items\":\n",
    "                    for dict_entry in search_entry[video]:\n",
    "                        if all(key in dict_entry for key in [\"id\", \"snippet\", \"video_details\", \"channel_details\"]):\n",
    "                            if \"items\" in dict_entry[\"video_details\"]:\n",
    "                                if all(key in dict_entry[\"video_details\"][\"items\"][0][\"statistics\"] for key in [\"likeCount\", \"commentCount\"]):\n",
    "                                    df[\"video_id\"].append(dict_entry[\"id\"][\"videoId\"])\n",
    "                                    df[\"published_at\"].append(dict_entry[\"snippet\"][\"publishedAt\"])\n",
    "                                    df[\"channel_id\"].append(dict_entry[\"snippet\"][\"channelId\"])\n",
    "                                    df[\"length_title\"].append(len(dict_entry[\"video_details\"][\"items\"][0][\"snippet\"][\"title\"]))\n",
    "                                    df[\"length_description\"].append(len(dict_entry[\"video_details\"][\"items\"][0][\"snippet\"][\"description\"]))\n",
    "                                    df[\"category\"].append(dict_entry[\"video_details\"][\"items\"][0][\"snippet\"][\"categoryId\"])\n",
    "                                    df[\"liveBroadcastContent\"].append(dict_entry[\"video_details\"][\"items\"][0][\"snippet\"][\"liveBroadcastContent\"])\n",
    "                                    df[\"duration\"].append(dict_entry[\"video_details\"][\"items\"][0][\"contentDetails\"][\"duration\"])\n",
    "                                    df[\"dimension\"].append(dict_entry[\"video_details\"][\"items\"][0][\"contentDetails\"][\"dimension\"])\n",
    "                                    df[\"definition\"].append(dict_entry[\"video_details\"][\"items\"][0][\"contentDetails\"][\"definition\"])\n",
    "                                    df[\"caption\"].append(dict_entry[\"video_details\"][\"items\"][0][\"contentDetails\"][\"caption\"])\n",
    "                                    df[\"licensedContent\"].append(dict_entry[\"video_details\"][\"items\"][0][\"contentDetails\"][\"licensedContent\"])\n",
    "                                    df[\"privacyStatus\"].append(dict_entry[\"video_details\"][\"items\"][0][\"status\"][\"privacyStatus\"])\n",
    "                                    df[\"view_count\"].append(dict_entry[\"video_details\"][\"items\"][0][\"statistics\"][\"viewCount\"])\n",
    "                                    df[\"like_count\"].append(dict_entry[\"video_details\"][\"items\"][0][\"statistics\"][\"likeCount\"])\n",
    "                                    df[\"favorite_count\"].append(dict_entry[\"video_details\"][\"items\"][0][\"statistics\"][\"favoriteCount\"])\n",
    "                                    df[\"comment_count\"].append(dict_entry[\"video_details\"][\"items\"][0][\"statistics\"][\"commentCount\"])\n",
    "                                    if \"tags\" in dict_entry[\"video_details\"][\"items\"][0][\"snippet\"]:\n",
    "                                        df[\"length_tags\"].append(len(dict_entry[\"video_details\"][\"items\"][0][\"snippet\"][\"tags\"]))\n",
    "                                    else:\n",
    "                                        df[\"length_tags\"].append(None)\n",
    "                                    df[\"channel_view_count\"].append(dict_entry[\"channel_details\"][0][\"statistics\"][\"viewCount\"])\n",
    "                                    df[\"channel_sub_count\"].append(dict_entry[\"channel_details\"][0][\"statistics\"][\"subscriberCount\"])\n",
    "                                    df[\"channel_video_count\"].append(dict_entry[\"channel_details\"][0][\"statistics\"][\"videoCount\"])\n",
    "                                    if \"country\" in dict_entry[\"channel_details\"][0][\"snippet\"]:\n",
    "                                        df[\"channel_country\"].append(dict_entry[\"channel_details\"][0][\"snippet\"][\"country\"])\n",
    "                                    else:\n",
    "                                        df[\"channel_country\"].append(None)\n",
    "    df = pd.DataFrame(df)\n",
    "    return df\n",
    "\n",
    "create_dataframe(loaded_data)"
   ]
  }
 ],
 "metadata": {
  "kernelspec": {
   "display_name": "Python 3",
   "language": "python",
   "name": "python3"
  },
  "language_info": {
   "codemirror_mode": {
    "name": "ipython",
    "version": 2
   },
   "file_extension": ".py",
   "mimetype": "text/x-python",
   "name": "python",
   "nbconvert_exporter": "python",
   "pygments_lexer": "ipython2",
   "version": "2.7.6"
  }
 },
 "nbformat": 4,
 "nbformat_minor": 5
}
